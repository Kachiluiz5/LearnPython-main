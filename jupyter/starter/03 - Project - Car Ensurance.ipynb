{
 "cells": [
  {
   "cell_type": "markdown",
   "id": "dac92035",
   "metadata": {},
   "source": [
    "# Project - Car Ensurance\n",
    "### Goal\n",
    "- Car ensurance calculation based on the following decision tree"
   ]
  },
  {
   "cell_type": "markdown",
   "id": "afa86cef",
   "metadata": {},
   "source": [
    "![alt text](img/DecisionTree.png \"Title\")"
   ]
  },
  {
   "cell_type": "markdown",
   "id": "78a7e0fc",
   "metadata": {},
   "source": [
    "### Description\n",
    "- This is a fictional car insurance company called Car Crash\n",
    "- They calculate the yearly ensurance price based on the current market price of the car\n",
    "- Given the market price: market_price\n",
    "- Then the yearly ensurance price is 9% of the market_price if it is a male above 26 years old.\n",
    "- As we see in the decision tree, we have 4 possible price calculations.\n",
    "- Create a program, which takes input and based on that calculated the correct price for all 4 cases"
   ]
  },
  {
   "cell_type": "code",
   "execution_count": 1,
   "id": "cf8ec9e0",
   "metadata": {},
   "outputs": [
    {
     "name": "stdout",
     "output_type": "stream",
     "text": [
      "Are you male or female ? male\n",
      "How old are you? 26\n"
     ]
    }
   ],
   "source": [
    "\n",
    "gender = input(\"Are you male or female ? \")\n",
    "gender = gender.lower()\n",
    "\n",
    "\n",
    "if gender == 'male':\n",
    "    age = input(\"How old are you? \")\n",
    "    age = int(age)\n",
    "    if age <= 26:\n",
    "        percentage = 9\n",
    "    else:\n",
    "        percentage = 23\n",
    "        \n",
    "elif gender == 'female':\n",
    "    car = input(\"do you own a sports car? \")\n",
    "    car = str(car)\n",
    "    if car == 'yes':\n",
    "        percentage = 21\n",
    "    elif car == 'no':\n",
    "        percentage = 10\n",
    "        \n",
    "else:\n",
    "    print(\"no record found: you must be male or female\")\n",
    "    \n",
    "    \n",
    "market_price = int(market_price)\n",
    "\n",
    "\n"
   ]
  },
  {
   "cell_type": "code",
   "execution_count": 27,
   "id": "581aed15",
   "metadata": {},
   "outputs": [
    {
     "name": "stdout",
     "output_type": "stream",
     "text": [
      "What is your gender (M/F)m\n",
      "Male\n",
      "How old are you? 30\n",
      "You are more that 26\n",
      "What is your market price? 10000\n",
      "Ensurance offer:  900.0\n"
     ]
    }
   ],
   "source": [
    "gender = input(\"What is your gender (M/F)\")\n",
    "gender = gender.upper()\n",
    "\n",
    "if gender == 'M':\n",
    "    print(\"Male\")\n",
    "    age = input(\"How old are you? \")\n",
    "    age = int(age)\n",
    "    if age <= 26:\n",
    "        print(\"You are 26 or less\")\n",
    "        percentage = 23\n",
    "    else:\n",
    "        print(\"You are more that 26\")\n",
    "        percentage = 9\n",
    "elif gender == 'F':\n",
    "        print(\"Female\")\n",
    "        car = input(\"What car do you own (sports/non-sports)\")\n",
    "        car = car.upper()\n",
    "        if car == 'SPORTS':\n",
    "            print(\"You own sports car\")\n",
    "            percentage = 21\n",
    "        elif car == 'NON-SPORTS':\n",
    "            print(\"you own non-sport car\")\n",
    "            percentage = 10\n",
    "        else:\n",
    "            print(\"Please specify your car type (sports/non-sports)\")\n",
    "else:\n",
    "    print(\"Unkown gender\")\n",
    "    percentage = None\n",
    "    \n",
    "market_price = input(\"What is your market price? \")\n",
    "market_price = int(market_price)\n",
    "\n",
    "ensurance_offer = market_price*percentage/100 \n",
    "print(f\"Ensurance offer:  {ensurance_offer}\")"
   ]
  },
  {
   "cell_type": "code",
   "execution_count": null,
   "id": "45805d2c",
   "metadata": {},
   "outputs": [],
   "source": []
  }
 ],
 "metadata": {
  "kernelspec": {
   "display_name": "Python 3 (ipykernel)",
   "language": "python",
   "name": "python3"
  },
  "language_info": {
   "codemirror_mode": {
    "name": "ipython",
    "version": 3
   },
   "file_extension": ".py",
   "mimetype": "text/x-python",
   "name": "python",
   "nbconvert_exporter": "python",
   "pygments_lexer": "ipython3",
   "version": "3.9.12"
  }
 },
 "nbformat": 4,
 "nbformat_minor": 5
}
