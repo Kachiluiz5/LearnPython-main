{
 "cells": [
  {
   "cell_type": "markdown",
   "id": "33649198",
   "metadata": {},
   "source": [
    "# Project - Calculations\n",
    "## Goal\n",
    "- Using Jupyter Notebook as a Calculator\n",
    "- Understand how cells keeps track of calcualtions"
   ]
  },
  {
   "cell_type": "markdown",
   "id": "9fb1e194",
   "metadata": {},
   "source": [
    "### Description\n",
    "- Create formulas\n",
    "- Have some fun with basic math"
   ]
  },
  {
   "cell_type": "markdown",
   "id": "c236ab7b",
   "metadata": {},
   "source": [
    "### Step 1\n",
    "- Make a convertion from **kg** to **lbs**\n",
    "- Use this formula: $lbs = kg \\times 2.2046$\n",
    "- Make the cell to use variables"
   ]
  },
  {
   "cell_type": "code",
   "execution_count": null,
   "id": "138f5d76",
   "metadata": {},
   "outputs": [],
   "source": []
  },
  {
   "cell_type": "markdown",
   "id": "55a4f0d1",
   "metadata": {},
   "source": [
    "### Step 2\n",
    "- Make calculation of circumference of a circle\n",
    "- The cell should define the radius\n",
    "- Calculate the circumference by the formula: $c = 2 \\times \\pi \\times r$\n",
    "- Define $\\pi = 3.14$ (use variable name **pi**)\n",
    "- Let the cell return the circumference"
   ]
  },
  {
   "cell_type": "code",
   "execution_count": null,
   "id": "d04920c0",
   "metadata": {},
   "outputs": [],
   "source": []
  },
  {
   "cell_type": "markdown",
   "id": "97e863d2",
   "metadata": {},
   "source": [
    "### Step 3\n",
    "1. Assign a variable to a any number (integer).\n",
    "2. Multiply the number by 3.\n",
    "3. Add 6 to the result from bullet 2.\n",
    "4. Divide this number by 3.\n",
    "5. Subtract the number from bullet 1 from the answer in bullet 4.\n",
    "6. The answer is 2."
   ]
  },
  {
   "cell_type": "code",
   "execution_count": 1,
   "id": "7dc5e923",
   "metadata": {},
   "outputs": [
    {
     "data": {
      "text/plain": [
       "30"
      ]
     },
     "execution_count": 1,
     "metadata": {},
     "output_type": "execute_result"
    }
   ],
   "source": [
    "num = 10\n",
    "num * 3"
   ]
  },
  {
   "cell_type": "code",
   "execution_count": 2,
   "id": "4223a71c",
   "metadata": {},
   "outputs": [
    {
     "data": {
      "text/plain": [
       "180"
      ]
     },
     "execution_count": 2,
     "metadata": {},
     "output_type": "execute_result"
    }
   ],
   "source": [
    "30 * 6"
   ]
  },
  {
   "cell_type": "code",
   "execution_count": 3,
   "id": "dac872ef",
   "metadata": {},
   "outputs": [
    {
     "data": {
      "text/plain": [
       "60.0"
      ]
     },
     "execution_count": 3,
     "metadata": {},
     "output_type": "execute_result"
    }
   ],
   "source": [
    "180 / 3"
   ]
  },
  {
   "cell_type": "code",
   "execution_count": null,
   "id": "dbec89be",
   "metadata": {},
   "outputs": [],
   "source": []
  }
 ],
 "metadata": {
  "kernelspec": {
   "display_name": "Python 3 (ipykernel)",
   "language": "python",
   "name": "python3"
  },
  "language_info": {
   "codemirror_mode": {
    "name": "ipython",
    "version": 3
   },
   "file_extension": ".py",
   "mimetype": "text/x-python",
   "name": "python",
   "nbconvert_exporter": "python",
   "pygments_lexer": "ipython3",
   "version": "3.9.12"
  }
 },
 "nbformat": 4,
 "nbformat_minor": 5
}
