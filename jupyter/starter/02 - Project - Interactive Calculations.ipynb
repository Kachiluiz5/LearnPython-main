{
 "cells": [
  {
   "cell_type": "markdown",
   "id": "4f318cba",
   "metadata": {},
   "source": [
    "# Project - Interactive Calculations\n",
    "### Goal\n",
    "- Multiply two numbers\n",
    "- Days since you were born\n",
    "- Tip calculator"
   ]
  },
  {
   "cell_type": "markdown",
   "id": "58f5f957",
   "metadata": {},
   "source": [
    "### Step 1\n",
    "- Input a value from the user and keep it in variable **a**.\n",
    "- Input another value from the user and keep it in variable **b**.\n",
    "- Print the product of the two values (**a*b**)."
   ]
  },
  {
   "cell_type": "code",
   "execution_count": 2,
   "id": "229ffd0e",
   "metadata": {},
   "outputs": [
    {
     "name": "stdout",
     "output_type": "stream",
     "text": [
      "Multiply 2 numbers to get the answer\n",
      "Enter First Number 2\n",
      "Enter Second Number3\n",
      "Ans: 6\n"
     ]
    }
   ],
   "source": [
    "print(\"Multiply 2 numbers to get the answer\")\n",
    "a = int(input(\"Enter First Number: \"))\n",
    "b = int(input(\"Enter Second Number: \"))\n",
    "print(f\"Ans: {a * b}\")"
   ]
  },
  {
   "cell_type": "markdown",
   "id": "42def214",
   "metadata": {},
   "source": [
    "### Step 2\n",
    "- Input how many years the user it.\n",
    "- Convert the years to an integer.\n",
    "- Calculate how many days, hours, minutes, and seconds since the user is born."
   ]
  },
  {
   "cell_type": "code",
   "execution_count": 7,
   "id": "c9f61930",
   "metadata": {},
   "outputs": [
    {
     "name": "stdout",
     "output_type": "stream",
     "text": [
      "How old are you? 30\n",
      "you have spend 10950 days, 262800 hours, 15768000 minutes, 946080000 seconds, since you were born\n"
     ]
    }
   ],
   "source": [
    "age = input(\"How old are you? \")\n",
    "age = int(age)\n",
    "# 60s = 1min , 60min = 1hr, 24hrs = 1day , 7days = 1 wk, 30days = 1month , 365days = 1year\n",
    "yrs_to_days = age*365\n",
    "yrs_to_hours = age*365*24\n",
    "yrs_to_mins = age*365*24*60\n",
    "yrs_to_sec = age*365*24*60*60\n",
    "\n",
    "\n",
    "print(f\"you have spend {yrs_to_days} days, {yrs_to_hours} hours, {yrs_to_mins} minutes, {yrs_to_sec} seconds, since you were born\")\n"
   ]
  },
  {
   "cell_type": "markdown",
   "id": "b4d6bec1",
   "metadata": {},
   "source": [
    "### Step 3\n",
    "- Here we will make a tip calculator.\n",
    "- Input the price.\n",
    "- Convert the price to an integer.\n",
    "- Input the percentage the user wants to tip.\n",
    "- Convert the percentage to an integer.\n",
    "- Calculate the tip by the following formula: **tip = price $\\times$ percentage_tip / 100**.\n",
    "- Round the tip to two digits.\n",
    "- Print the the tip.\n",
    "- *BONUS:* Adjust the code to take float input of percentage tip"
   ]
  },
  {
   "cell_type": "code",
   "execution_count": 9,
   "id": "36cedfcb",
   "metadata": {},
   "outputs": [
    {
     "name": "stdout",
     "output_type": "stream",
     "text": [
      "Price: 100\n",
      "percent%: 10.3\n",
      "Tip: 10.3\n"
     ]
    }
   ],
   "source": [
    "price = input(\"Price: \")\n",
    "price = int(price)\n",
    "percentage_tip = input(\"percent%: \")\n",
    "percentage_tip = float(percentage_tip)\n",
    "\n",
    "# calculate using the formular: tip = price  × percentage_tip / 100\n",
    "\n",
    "tip = price * percentage_tip / 100\n",
    "\n",
    "print(\"Tip:\", round(tip, 2))\n",
    "\n"
   ]
  },
  {
   "cell_type": "code",
   "execution_count": null,
   "id": "d0799232",
   "metadata": {},
   "outputs": [],
   "source": [
    "\n"
   ]
  },
  {
   "cell_type": "code",
   "execution_count": null,
   "id": "3dd98770",
   "metadata": {},
   "outputs": [],
   "source": []
  }
 ],
 "metadata": {
  "kernelspec": {
   "display_name": "Python 3 (ipykernel)",
   "language": "python",
   "name": "python3"
  },
  "language_info": {
   "codemirror_mode": {
    "name": "ipython",
    "version": 3
   },
   "file_extension": ".py",
   "mimetype": "text/x-python",
   "name": "python",
   "nbconvert_exporter": "python",
   "pygments_lexer": "ipython3",
   "version": "3.9.12"
  }
 },
 "nbformat": 4,
 "nbformat_minor": 5
}
