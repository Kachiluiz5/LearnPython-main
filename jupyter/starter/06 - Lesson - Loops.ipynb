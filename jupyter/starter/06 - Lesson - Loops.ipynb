{
 "cells": [
  {
   "cell_type": "markdown",
   "id": "52e1baa6",
   "metadata": {},
   "source": [
    "# Loops\n",
    "### Goal\n",
    "- Learn how to iterate over lists\n",
    "- Iterate over the chars in a string\n",
    "- Create a for-loop over a range\n",
    "- Create a while-loop"
   ]
  },
  {
   "cell_type": "code",
   "execution_count": 3,
   "id": "1d007d5c",
   "metadata": {},
   "outputs": [],
   "source": [
    "fruits = ['apple', 'banana', 'mango']"
   ]
  },
  {
   "cell_type": "code",
   "execution_count": 4,
   "id": "3e26d19f",
   "metadata": {},
   "outputs": [
    {
     "name": "stdout",
     "output_type": "stream",
     "text": [
      "['apple', 'banana', 'mango']\n"
     ]
    }
   ],
   "source": [
    "print(fruits)"
   ]
  },
  {
   "cell_type": "code",
   "execution_count": 17,
   "id": "dc7bdf7d",
   "metadata": {},
   "outputs": [
    {
     "name": "stdout",
     "output_type": "stream",
     "text": [
      "apple\n"
     ]
    },
    {
     "ename": "NameError",
     "evalue": "name 'banana' is not defined",
     "output_type": "error",
     "traceback": [
      "\u001b[1;31m---------------------------------------------------------------------------\u001b[0m",
      "\u001b[1;31mNameError\u001b[0m                                 Traceback (most recent call last)",
      "Input \u001b[1;32mIn [17]\u001b[0m, in \u001b[0;36m<cell line: 1>\u001b[1;34m()\u001b[0m\n\u001b[0;32m      1\u001b[0m \u001b[38;5;28;01mfor\u001b[39;00m x \u001b[38;5;129;01min\u001b[39;00m fruits:\n\u001b[0;32m      2\u001b[0m   \u001b[38;5;28mprint\u001b[39m(x)\n\u001b[1;32m----> 3\u001b[0m   \u001b[38;5;28;01mif\u001b[39;00m x \u001b[38;5;241m==\u001b[39m \u001b[43mbanana\u001b[49m:\n\u001b[0;32m      4\u001b[0m    \u001b[38;5;28;01mbreak\u001b[39;00m\n",
      "\u001b[1;31mNameError\u001b[0m: name 'banana' is not defined"
     ]
    }
   ],
   "source": [
    "for x in fruits:\n",
    "  print(x)\n",
    "  if x == banana:\n",
    "   break"
   ]
  },
  {
   "cell_type": "code",
   "execution_count": 9,
   "id": "ae5665c7",
   "metadata": {},
   "outputs": [
    {
     "name": "stdout",
     "output_type": "stream",
     "text": [
      "apple\n",
      "mango\n"
     ]
    }
   ],
   "source": [
    "for x in fruits:\n",
    " if x == banana:\n",
    "    continue\n",
    " print(x)"
   ]
  },
  {
   "cell_type": "code",
   "execution_count": 18,
   "id": "5b03b5db",
   "metadata": {},
   "outputs": [
    {
     "name": "stdout",
     "output_type": "stream",
     "text": [
      "apple\n",
      "mango\n"
     ]
    }
   ],
   "source": [
    "for x in fruits:\n",
    "  if x == \"banana\":\n",
    "    continue\n",
    "  print(x)"
   ]
  },
  {
   "cell_type": "code",
   "execution_count": 26,
   "id": "7dc90970",
   "metadata": {},
   "outputs": [
    {
     "name": "stdout",
     "output_type": "stream",
     "text": [
      "K\n",
      "inside loop\n",
      "a\n",
      "inside loop\n",
      "c\n",
      "inside loop\n",
      "h\n",
      "inside loop\n",
      "i\n",
      "inside loop\n",
      "outside loop\n"
     ]
    }
   ],
   "source": [
    "name = 'Kachi'\n",
    "\n",
    "for i in name:\n",
    "    print(i)\n",
    "    print('inside loop')\n",
    "print('outside loop')\n",
    "    "
   ]
  },
  {
   "cell_type": "code",
   "execution_count": 27,
   "id": "d277f4d2",
   "metadata": {},
   "outputs": [
    {
     "name": "stdout",
     "output_type": "stream",
     "text": [
      "['laptop', 'house', 'connection']\n"
     ]
    }
   ],
   "source": [
    "my_list = ['laptop', 'house', 'connection']\n",
    "print(my_list)"
   ]
  },
  {
   "cell_type": "code",
   "execution_count": 34,
   "id": "e2303a03",
   "metadata": {},
   "outputs": [
    {
     "name": "stdout",
     "output_type": "stream",
     "text": [
      "0 laptop\n",
      "1 house\n",
      "2 connection\n"
     ]
    }
   ],
   "source": [
    "# using the range function : rnage()\n",
    "for new_list in range(len(my_list)):\n",
    "    print(new_list, my_list[new_list])"
   ]
  },
  {
   "cell_type": "code",
   "execution_count": null,
   "id": "52a15c22",
   "metadata": {},
   "outputs": [],
   "source": [
    "# while loop\n",
    "a = 1\n",
    "while a < 6:\n",
    "    print(a)"
   ]
  },
  {
   "cell_type": "markdown",
   "id": "ce028b6e",
   "metadata": {},
   "source": [
    "#A fewer things "
   ]
  },
  {
   "cell_type": "code",
   "execution_count": 3,
   "id": "9b580db9",
   "metadata": {},
   "outputs": [
    {
     "name": "stdout",
     "output_type": "stream",
     "text": [
      "nothing found\n"
     ]
    }
   ],
   "source": [
    "c = \"abc\"\n",
    "s = \"p\"\n",
    "\n",
    "if s in c:\n",
    "    print(\"s is in c\")\n",
    "else:\n",
    "    print(\"nothing found\")"
   ]
  },
  {
   "cell_type": "code",
   "execution_count": 4,
   "id": "9221310d",
   "metadata": {},
   "outputs": [
    {
     "name": "stdout",
     "output_type": "stream",
     "text": [
      "s not in c\n"
     ]
    }
   ],
   "source": [
    "if s not in c:\n",
    "    print(\"s not in c\")"
   ]
  },
  {
   "cell_type": "code",
   "execution_count": 5,
   "id": "35a29635",
   "metadata": {},
   "outputs": [
    {
     "name": "stdout",
     "output_type": "stream",
     "text": [
      "awsome\n"
     ]
    }
   ],
   "source": [
    "a = 10\n",
    "b = 12\n",
    "c = 14\n",
    "\n",
    "if a < b and b < c:\n",
    "    print(\"awsome\")"
   ]
  },
  {
   "cell_type": "code",
   "execution_count": 6,
   "id": "39737825",
   "metadata": {},
   "outputs": [
    {
     "name": "stdout",
     "output_type": "stream",
     "text": [
      "one is gonna work\n"
     ]
    }
   ],
   "source": [
    "if a >  b or b < c:\n",
    "    print(\"one is gonna work\")"
   ]
  },
  {
   "cell_type": "code",
   "execution_count": null,
   "id": "ef81f5d5",
   "metadata": {},
   "outputs": [],
   "source": []
  }
 ],
 "metadata": {
  "kernelspec": {
   "display_name": "Python 3 (ipykernel)",
   "language": "python",
   "name": "python3"
  },
  "language_info": {
   "codemirror_mode": {
    "name": "ipython",
    "version": 3
   },
   "file_extension": ".py",
   "mimetype": "text/x-python",
   "name": "python",
   "nbconvert_exporter": "python",
   "pygments_lexer": "ipython3",
   "version": "3.9.12"
  }
 },
 "nbformat": 4,
 "nbformat_minor": 5
}
