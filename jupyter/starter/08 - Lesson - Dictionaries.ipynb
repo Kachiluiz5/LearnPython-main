{
 "cells": [
  {
   "cell_type": "markdown",
   "id": "1337e165",
   "metadata": {},
   "source": [
    "# Dictionaries\n",
    "### Goal\n",
    "- Learn about dictionaries (dict) in Python\n",
    "- Store key-value pairs"
   ]
  },
  {
   "cell_type": "code",
   "execution_count": 1,
   "id": "4be62211",
   "metadata": {},
   "outputs": [],
   "source": [
    "my_dict =  {\n",
    "    'name' : 'kachi',\n",
    "    'skill' : 'developer'\n",
    "}"
   ]
  },
  {
   "cell_type": "code",
   "execution_count": 2,
   "id": "d3252210",
   "metadata": {},
   "outputs": [
    {
     "name": "stdout",
     "output_type": "stream",
     "text": [
      "{'name': 'kachi', 'skill': 'developer'}\n"
     ]
    }
   ],
   "source": [
    "print(my_dict)"
   ]
  },
  {
   "cell_type": "code",
   "execution_count": 3,
   "id": "3e2230c8",
   "metadata": {},
   "outputs": [],
   "source": [
    "# geting key values"
   ]
  },
  {
   "cell_type": "code",
   "execution_count": 6,
   "id": "c7025c13",
   "metadata": {},
   "outputs": [
    {
     "data": {
      "text/plain": [
       "'kachi'"
      ]
     },
     "execution_count": 6,
     "metadata": {},
     "output_type": "execute_result"
    }
   ],
   "source": [
    "my_dict['name']"
   ]
  },
  {
   "cell_type": "code",
   "execution_count": 7,
   "id": "654ddbd6",
   "metadata": {},
   "outputs": [
    {
     "data": {
      "text/plain": [
       "'developer'"
      ]
     },
     "execution_count": 7,
     "metadata": {},
     "output_type": "execute_result"
    }
   ],
   "source": [
    "my_dict['skill']"
   ]
  },
  {
   "cell_type": "code",
   "execution_count": 10,
   "id": "c6e3bf37",
   "metadata": {},
   "outputs": [],
   "source": [
    "# adding new key and value\n",
    "my_dict['age'] = '20'"
   ]
  },
  {
   "cell_type": "code",
   "execution_count": 9,
   "id": "2dd57378",
   "metadata": {},
   "outputs": [
    {
     "data": {
      "text/plain": [
       "{'name': 'kachi', 'skill': 'developer', 'age': '20'}"
      ]
     },
     "execution_count": 9,
     "metadata": {},
     "output_type": "execute_result"
    }
   ],
   "source": [
    "my_dict"
   ]
  },
  {
   "cell_type": "code",
   "execution_count": 11,
   "id": "9f392ebf",
   "metadata": {},
   "outputs": [],
   "source": [
    "# upadate a value"
   ]
  },
  {
   "cell_type": "code",
   "execution_count": 12,
   "id": "e0cf0250",
   "metadata": {},
   "outputs": [],
   "source": [
    "my_dict['age'] = '19'"
   ]
  },
  {
   "cell_type": "code",
   "execution_count": 13,
   "id": "4a5faffe",
   "metadata": {},
   "outputs": [
    {
     "data": {
      "text/plain": [
       "{'name': 'kachi', 'skill': 'developer', 'age': '19'}"
      ]
     },
     "execution_count": 13,
     "metadata": {},
     "output_type": "execute_result"
    }
   ],
   "source": [
    "my_dict"
   ]
  },
  {
   "cell_type": "code",
   "execution_count": 14,
   "id": "a23564fa",
   "metadata": {},
   "outputs": [],
   "source": [
    "# creating directionary for  a car "
   ]
  },
  {
   "cell_type": "code",
   "execution_count": 15,
   "id": "b17546d9",
   "metadata": {},
   "outputs": [],
   "source": [
    "car = {\n",
    "    'brand': \"Lamborgini\",\n",
    "    'Model': \"Sia'n\",\n",
    "    'Year': 2020,\n",
    "}"
   ]
  },
  {
   "cell_type": "code",
   "execution_count": 16,
   "id": "322d10c9",
   "metadata": {},
   "outputs": [
    {
     "data": {
      "text/plain": [
       "{'brand': 'Lamborgini', 'Model': \"Sia'n\", 'Year': 2020}"
      ]
     },
     "execution_count": 16,
     "metadata": {},
     "output_type": "execute_result"
    }
   ],
   "source": [
    "car"
   ]
  },
  {
   "cell_type": "code",
   "execution_count": 17,
   "id": "1f4a9e73",
   "metadata": {},
   "outputs": [],
   "source": [
    "# using list and dictionar to count how man time an item occured in a list.[]"
   ]
  },
  {
   "cell_type": "code",
   "execution_count": 18,
   "id": "c908cb8c",
   "metadata": {},
   "outputs": [],
   "source": [
    "items = ['paper', 'scissor', 'paper', 'paper', 'scissor']"
   ]
  },
  {
   "cell_type": "code",
   "execution_count": 34,
   "id": "1d324dfc",
   "metadata": {},
   "outputs": [],
   "source": [
    "count = {}\n",
    "for item in items:\n",
    "    count[item] = count.get(item, 0) + 1\n"
   ]
  },
  {
   "cell_type": "code",
   "execution_count": 35,
   "id": "6622093d",
   "metadata": {},
   "outputs": [
    {
     "data": {
      "text/plain": [
       "{'paper': 3, 'scissor': 2}"
      ]
     },
     "execution_count": 35,
     "metadata": {},
     "output_type": "execute_result"
    }
   ],
   "source": [
    "count"
   ]
  },
  {
   "cell_type": "code",
   "execution_count": null,
   "id": "1b413ce5",
   "metadata": {},
   "outputs": [],
   "source": []
  }
 ],
 "metadata": {
  "kernelspec": {
   "display_name": "Python 3 (ipykernel)",
   "language": "python",
   "name": "python3"
  },
  "language_info": {
   "codemirror_mode": {
    "name": "ipython",
    "version": 3
   },
   "file_extension": ".py",
   "mimetype": "text/x-python",
   "name": "python",
   "nbconvert_exporter": "python",
   "pygments_lexer": "ipython3",
   "version": "3.9.12"
  }
 },
 "nbformat": 4,
 "nbformat_minor": 5
}
