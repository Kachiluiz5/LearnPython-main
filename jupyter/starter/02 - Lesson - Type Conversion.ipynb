{
 "cells": [
  {
   "cell_type": "markdown",
   "id": "51cf39cb",
   "metadata": {},
   "source": [
    "# Type Conversion\n",
    "- More about formatted strings\n",
    "- Types are not the same\n",
    "- Convert them with **int(), float(), str()**"
   ]
  },
  {
   "cell_type": "code",
   "execution_count": 1,
   "id": "7120c206",
   "metadata": {},
   "outputs": [
    {
     "name": "stdout",
     "output_type": "stream",
     "text": [
      "1\n"
     ]
    }
   ],
   "source": [
    "print(1)"
   ]
  },
  {
   "cell_type": "code",
   "execution_count": 7,
   "id": "61f36e45",
   "metadata": {},
   "outputs": [
    {
     "name": "stdout",
     "output_type": "stream",
     "text": [
      "Hello what is your name? kachi\n",
      "What year were you born 2003\n",
      "Your name is kachi and you are 20 years old\n"
     ]
    }
   ],
   "source": [
    "name = input(\"Hello what is your name? \")\n",
    "date_of_birth = input(\"What year were you born \")\n",
    "date_of_birth = int(date_of_birth)\n",
    "print(f\"Your name is {name} and you are {2023 - date_of_birth} years old\")"
   ]
  },
  {
   "cell_type": "code",
   "execution_count": 8,
   "id": "99dad427",
   "metadata": {},
   "outputs": [
    {
     "data": {
      "text/plain": [
       "2.0"
      ]
     },
     "execution_count": 8,
     "metadata": {},
     "output_type": "execute_result"
    }
   ],
   "source": [
    "float(\"2\")"
   ]
  },
  {
   "cell_type": "code",
   "execution_count": 1,
   "id": "a387506f",
   "metadata": {},
   "outputs": [
    {
     "data": {
      "text/plain": [
       "'this is a string 7'"
      ]
     },
     "execution_count": 1,
     "metadata": {},
     "output_type": "execute_result"
    }
   ],
   "source": [
    "s = \"this is a string \"\n",
    "i = 7\n",
    "s + str(i)"
   ]
  },
  {
   "cell_type": "code",
   "execution_count": 2,
   "id": "098e32ed",
   "metadata": {},
   "outputs": [
    {
     "name": "stdout",
     "output_type": "stream",
     "text": [
      "2\n"
     ]
    }
   ],
   "source": []
  },
  {
   "cell_type": "code",
   "execution_count": null,
   "id": "b463835e",
   "metadata": {},
   "outputs": [],
   "source": []
  },
  {
   "cell_type": "code",
   "execution_count": null,
   "id": "845f121c",
   "metadata": {},
   "outputs": [],
   "source": []
  },
  {
   "cell_type": "code",
   "execution_count": null,
   "id": "02e68b8c",
   "metadata": {},
   "outputs": [],
   "source": []
  },
  {
   "cell_type": "code",
   "execution_count": null,
   "id": "f8939eb0",
   "metadata": {},
   "outputs": [],
   "source": []
  }
 ],
 "metadata": {
  "kernelspec": {
   "display_name": "Python 3 (ipykernel)",
   "language": "python",
   "name": "python3"
  },
  "language_info": {
   "codemirror_mode": {
    "name": "ipython",
    "version": 3
   },
   "file_extension": ".py",
   "mimetype": "text/x-python",
   "name": "python",
   "nbconvert_exporter": "python",
   "pygments_lexer": "ipython3",
   "version": "3.9.12"
  }
 },
 "nbformat": 4,
 "nbformat_minor": 5
}
