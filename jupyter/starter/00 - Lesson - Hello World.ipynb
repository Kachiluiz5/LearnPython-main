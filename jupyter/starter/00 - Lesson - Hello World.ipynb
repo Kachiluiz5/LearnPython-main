{
 "cells": [
  {
   "cell_type": "markdown",
   "id": "5abf1d32",
   "metadata": {},
   "source": [
    "# Hello, World!\n",
    "- The story behind [Hello, World!](https://en.wikipedia.org/wiki/%22Hello,_World!%22_program)\n",
    "- The [Zen of Python](https://en.wikipedia.org/wiki/Zen_of_Python)\n"
   ]
  },
  {
   "cell_type": "markdown",
   "id": "ce16c57c",
   "metadata": {},
   "source": [
    "### Goal\n",
    "- Get started with **Python**\n",
    "- Get comfortable with **Jupyter Notebook**\n",
    "- Understand **input** and **print**\n",
    "- Learn string methods: **capitlize**, **lower**, **isdecimal**, **replace**"
   ]
  },
  {
   "cell_type": "code",
   "execution_count": 1,
   "id": "2d8813ba",
   "metadata": {},
   "outputs": [
    {
     "name": "stdout",
     "output_type": "stream",
     "text": [
      "hello world\n"
     ]
    }
   ],
   "source": [
    "print('hello world')"
   ]
  },
  {
   "cell_type": "code",
   "execution_count": 2,
   "id": "7043f8f0",
   "metadata": {},
   "outputs": [
    {
     "name": "stdout",
     "output_type": "stream",
     "text": [
      "The Zen of Python, by Tim Peters\n",
      "\n",
      "Beautiful is better than ugly.\n",
      "Explicit is better than implicit.\n",
      "Simple is better than complex.\n",
      "Complex is better than complicated.\n",
      "Flat is better than nested.\n",
      "Sparse is better than dense.\n",
      "Readability counts.\n",
      "Special cases aren't special enough to break the rules.\n",
      "Although practicality beats purity.\n",
      "Errors should never pass silently.\n",
      "Unless explicitly silenced.\n",
      "In the face of ambiguity, refuse the temptation to guess.\n",
      "There should be one-- and preferably only one --obvious way to do it.\n",
      "Although that way may not be obvious at first unless you're Dutch.\n",
      "Now is better than never.\n",
      "Although never is often better than *right* now.\n",
      "If the implementation is hard to explain, it's a bad idea.\n",
      "If the implementation is easy to explain, it may be a good idea.\n",
      "Namespaces are one honking great idea -- let's do more of those!\n"
     ]
    }
   ],
   "source": [
    "import this"
   ]
  },
  {
   "cell_type": "code",
   "execution_count": 3,
   "id": "d981a5f6",
   "metadata": {},
   "outputs": [
    {
     "name": "stdout",
     "output_type": "stream",
     "text": [
      "rune\n"
     ]
    }
   ],
   "source": [
    "s = input()"
   ]
  },
  {
   "cell_type": "code",
   "execution_count": 7,
   "id": "7f3c76e9",
   "metadata": {},
   "outputs": [
    {
     "name": "stdout",
     "output_type": "stream",
     "text": [
      "what is your name? rune\n",
      "hello Rune\n",
      "how are old are you19\n",
      "you are  19  years old\n"
     ]
    }
   ],
   "source": [
    "name = input(\"what is your name? \")\n",
    "print(\"hello\", name.capitalize())\n",
    "\n",
    "age = input(\"how are old are you\")\n",
    "print(\"you are \", age, \" years old\")"
   ]
  },
  {
   "cell_type": "code",
   "execution_count": 11,
   "id": "4db28ac0",
   "metadata": {},
   "outputs": [
    {
     "data": {
      "text/plain": [
       "False"
      ]
     },
     "execution_count": 11,
     "metadata": {},
     "output_type": "execute_result"
    }
   ],
   "source": [
    "\"Hello\".isdecimal()"
   ]
  },
  {
   "cell_type": "code",
   "execution_count": 15,
   "id": "e6de6e8d",
   "metadata": {},
   "outputs": [
    {
     "data": {
      "text/plain": [
       "'kachi'"
      ]
     },
     "execution_count": 15,
     "metadata": {},
     "output_type": "execute_result"
    }
   ],
   "source": [
    "\"Kachi\".lower()"
   ]
  },
  {
   "cell_type": "code",
   "execution_count": 18,
   "id": "e05ab4f1",
   "metadata": {},
   "outputs": [
    {
     "data": {
      "text/plain": [
       "'Sune'"
      ]
     },
     "execution_count": 18,
     "metadata": {},
     "output_type": "execute_result"
    }
   ],
   "source": [
    "name = \"Rune\"\n",
    "name.replace('R', 'S')"
   ]
  },
  {
   "cell_type": "code",
   "execution_count": 23,
   "id": "f6787f98",
   "metadata": {},
   "outputs": [
    {
     "name": "stdout",
     "output_type": "stream",
     "text": [
      "Rune & sune\n"
     ]
    }
   ],
   "source": [
    "print(\"Rune\", end='')\n",
    "print(\" & sune\")"
   ]
  },
  {
   "cell_type": "code",
   "execution_count": null,
   "id": "bd5e5fa0",
   "metadata": {},
   "outputs": [],
   "source": []
  },
  {
   "cell_type": "code",
   "execution_count": null,
   "id": "40dc8f82",
   "metadata": {},
   "outputs": [],
   "source": []
  },
  {
   "cell_type": "code",
   "execution_count": null,
   "id": "9f17ceda",
   "metadata": {},
   "outputs": [],
   "source": []
  }
 ],
 "metadata": {
  "kernelspec": {
   "display_name": "Python 3 (ipykernel)",
   "language": "python",
   "name": "python3"
  },
  "language_info": {
   "codemirror_mode": {
    "name": "ipython",
    "version": 3
   },
   "file_extension": ".py",
   "mimetype": "text/x-python",
   "name": "python",
   "nbconvert_exporter": "python",
   "pygments_lexer": "ipython3",
   "version": "3.9.12"
  }
 },
 "nbformat": 4,
 "nbformat_minor": 5
}
