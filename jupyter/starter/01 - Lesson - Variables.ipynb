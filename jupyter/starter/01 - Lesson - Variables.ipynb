{
 "cells": [
  {
   "cell_type": "markdown",
   "id": "85ebcfeb",
   "metadata": {},
   "source": [
    "# Variables\n",
    "- A variable is a reserved memory location.\n",
    "- A variable in a python program gives data to the computer for processing."
   ]
  },
  {
   "cell_type": "markdown",
   "id": "90a3aec9",
   "metadata": {},
   "source": [
    "### Basic data types\n",
    "- Integers\n",
    "- Floats\n",
    "- Strings\n",
    "- Boolean"
   ]
  },
  {
   "cell_type": "markdown",
   "id": "4fd7ec6c",
   "metadata": {},
   "source": [
    "### Python Variable Name Convention\n",
    "A variable name in Python should fulfil the following\n",
    "- Use lowercase\n",
    "- Separate words with underscore.\n",
    "\n",
    "A variable name in Python can be\n",
    "- A single lowercase letter\n",
    "- A lowercase word\n",
    "- Or lowercase words separated by underscore.\n",
    "\n",
    "Examples of variable names\n",
    "- x\n",
    "- i\n",
    "- cars\n",
    "- my_cars\n",
    "\n",
    "Note that other programming languages can have other naming conventions."
   ]
  },
  {
   "cell_type": "markdown",
   "id": "a9acbfe3",
   "metadata": {},
   "source": [
    "### Declaration of variables"
   ]
  },
  {
   "cell_type": "code",
   "execution_count": 8,
   "id": "c9db71d6",
   "metadata": {},
   "outputs": [
    {
     "data": {
      "text/plain": [
       "float"
      ]
     },
     "execution_count": 8,
     "metadata": {},
     "output_type": "execute_result"
    }
   ],
   "source": [
    "x = \"i am a string\"\n",
    "num = 5\n",
    "new_num = 43.8\n",
    "\n",
    "type(new_num)"
   ]
  },
  {
   "cell_type": "code",
   "execution_count": null,
   "id": "6b30fe7d",
   "metadata": {},
   "outputs": [],
   "source": []
  },
  {
   "cell_type": "markdown",
   "id": "3ae7065a",
   "metadata": {},
   "source": [
    "### Integers\n",
    "An integer is a number which is not a fraction; a whole number.\n",
    "\n",
    "Examples of integers: \n",
    "- -23\n",
    "- -5\n",
    "- 0\n",
    "- 1\n",
    "- 78\n",
    "- 1,980,350\n",
    "\n",
    "Examples of non-integers: \n",
    "- 3.14\n",
    "- 0.001\n",
    "- 9,999.999"
   ]
  },
  {
   "cell_type": "code",
   "execution_count": 8,
   "id": "73c36b6f",
   "metadata": {},
   "outputs": [
    {
     "name": "stdout",
     "output_type": "stream",
     "text": [
      "6\n"
     ]
    },
    {
     "data": {
      "text/plain": [
       "int"
      ]
     },
     "execution_count": 8,
     "metadata": {},
     "output_type": "execute_result"
    }
   ],
   "source": [
    "a = 2\n",
    "b = 4\n",
    "\n",
    "print(a + b)\n",
    "type(a), type(b)\n",
    "\n",
    "c = a + b\n",
    "type(c)\n"
   ]
  },
  {
   "cell_type": "code",
   "execution_count": null,
   "id": "273d25f0",
   "metadata": {},
   "outputs": [],
   "source": []
  },
  {
   "cell_type": "code",
   "execution_count": null,
   "id": "35f87c11",
   "metadata": {},
   "outputs": [],
   "source": []
  },
  {
   "cell_type": "code",
   "execution_count": null,
   "id": "03056dda",
   "metadata": {},
   "outputs": [],
   "source": []
  },
  {
   "cell_type": "markdown",
   "id": "78cc10ef",
   "metadata": {},
   "source": [
    "### Float\n",
    "A float is a numbers with digits on both sides of a decimal point. This is in contrast to the integer data type, which houses an integer or whole number.\n",
    "\n",
    "Examples of floats:\n",
    "- 3.13\n",
    "- 9.99\n",
    "- 0.0001\n",
    "\n",
    "Note that a float data type in Python can represent a whole number.\n",
    "- 1.0\n",
    "- 3.0"
   ]
  },
  {
   "cell_type": "code",
   "execution_count": 14,
   "id": "436914f9",
   "metadata": {},
   "outputs": [
    {
     "data": {
      "text/plain": [
       "(float, float)"
      ]
     },
     "execution_count": 14,
     "metadata": {},
     "output_type": "execute_result"
    }
   ],
   "source": [
    "a = 1.1\n",
    "b = 2.5\n",
    "\n",
    "type(a), type(b)"
   ]
  },
  {
   "cell_type": "code",
   "execution_count": 13,
   "id": "4566f05c",
   "metadata": {},
   "outputs": [
    {
     "name": "stdout",
     "output_type": "stream",
     "text": [
      "5.1\n"
     ]
    },
    {
     "data": {
      "text/plain": [
       "float"
      ]
     },
     "execution_count": 13,
     "metadata": {},
     "output_type": "execute_result"
    }
   ],
   "source": [
    "c = a + b\n",
    "\n",
    "print(c)\n",
    "\n",
    "type(c)"
   ]
  },
  {
   "cell_type": "code",
   "execution_count": 16,
   "id": "fa34d09d",
   "metadata": {},
   "outputs": [
    {
     "name": "stdout",
     "output_type": "stream",
     "text": [
      "3.1\n"
     ]
    }
   ],
   "source": [
    "d = 2\n",
    "\n",
    "type (d + a)\n",
    "\n",
    "print(d + a)"
   ]
  },
  {
   "cell_type": "code",
   "execution_count": null,
   "id": "2b85431a",
   "metadata": {},
   "outputs": [],
   "source": []
  },
  {
   "cell_type": "code",
   "execution_count": null,
   "id": "932f69a1",
   "metadata": {},
   "outputs": [],
   "source": []
  },
  {
   "cell_type": "code",
   "execution_count": null,
   "id": "bfdba41c",
   "metadata": {},
   "outputs": [],
   "source": []
  },
  {
   "cell_type": "code",
   "execution_count": null,
   "id": "03970c30",
   "metadata": {},
   "outputs": [],
   "source": []
  },
  {
   "cell_type": "code",
   "execution_count": null,
   "id": "b423f055",
   "metadata": {},
   "outputs": [],
   "source": []
  },
  {
   "cell_type": "markdown",
   "id": "a9d2f6f7",
   "metadata": {},
   "source": [
    "### Math functions\n",
    "- **abs()** Returns absolute value of a number\n",
    "- **pow()** Raises a number to a power\n",
    "- **round()** Rounds a floating-point value"
   ]
  },
  {
   "cell_type": "code",
   "execution_count": 17,
   "id": "081b0042",
   "metadata": {},
   "outputs": [
    {
     "data": {
      "text/plain": [
       "2"
      ]
     },
     "execution_count": 17,
     "metadata": {},
     "output_type": "execute_result"
    }
   ],
   "source": [
    "abs(-2)"
   ]
  },
  {
   "cell_type": "code",
   "execution_count": 18,
   "id": "4712179c",
   "metadata": {},
   "outputs": [
    {
     "data": {
      "text/plain": [
       "8"
      ]
     },
     "execution_count": 18,
     "metadata": {},
     "output_type": "execute_result"
    }
   ],
   "source": [
    "pow(2, 3)"
   ]
  },
  {
   "cell_type": "code",
   "execution_count": 19,
   "id": "38138478",
   "metadata": {},
   "outputs": [
    {
     "data": {
      "text/plain": [
       "8"
      ]
     },
     "execution_count": 19,
     "metadata": {},
     "output_type": "execute_result"
    }
   ],
   "source": [
    "2**3"
   ]
  },
  {
   "cell_type": "code",
   "execution_count": 20,
   "id": "6ceda4c0",
   "metadata": {},
   "outputs": [
    {
     "data": {
      "text/plain": [
       "2.3"
      ]
     },
     "execution_count": 20,
     "metadata": {},
     "output_type": "execute_result"
    }
   ],
   "source": [
    "round(2.33, 1)"
   ]
  },
  {
   "cell_type": "code",
   "execution_count": 21,
   "id": "44b26278",
   "metadata": {},
   "outputs": [
    {
     "data": {
      "text/plain": [
       "1.2235"
      ]
     },
     "execution_count": 21,
     "metadata": {},
     "output_type": "execute_result"
    }
   ],
   "source": [
    "f = 1.22345566\n",
    "round(f, 4)"
   ]
  },
  {
   "cell_type": "markdown",
   "id": "536bf736",
   "metadata": {},
   "source": [
    "### Strings\n",
    "A string in Python is a sequence of characters.\n",
    "\n",
    "Examples\n",
    "- \"I am a string!\"\n",
    "- 'I am another string'"
   ]
  },
  {
   "cell_type": "code",
   "execution_count": 22,
   "id": "6d3827a9",
   "metadata": {},
   "outputs": [
    {
     "name": "stdout",
     "output_type": "stream",
     "text": [
      "hello\n"
     ]
    }
   ],
   "source": [
    "a = 'hello'\n",
    "b = \"hello\"\n",
    "print(a)"
   ]
  },
  {
   "cell_type": "code",
   "execution_count": 23,
   "id": "e4dc6c8a",
   "metadata": {},
   "outputs": [
    {
     "name": "stdout",
     "output_type": "stream",
     "text": [
      "this is a formating metod no: 1 - should be aware\n"
     ]
    }
   ],
   "source": [
    "c = 1\n",
    "\n",
    "print(f\"this is a formating metod no: {c} - should be aware\")"
   ]
  },
  {
   "cell_type": "code",
   "execution_count": null,
   "id": "827b50df",
   "metadata": {},
   "outputs": [],
   "source": []
  },
  {
   "cell_type": "code",
   "execution_count": null,
   "id": "fe594049",
   "metadata": {},
   "outputs": [],
   "source": []
  },
  {
   "cell_type": "code",
   "execution_count": null,
   "id": "18e37279",
   "metadata": {},
   "outputs": [],
   "source": []
  },
  {
   "cell_type": "markdown",
   "id": "b62651d1",
   "metadata": {},
   "source": [
    "### Boolean\n",
    "- True or False (case sensitive)\n",
    "- Either it rains or not -> Either you take your umbrella or not"
   ]
  },
  {
   "cell_type": "code",
   "execution_count": 24,
   "id": "837360bd",
   "metadata": {},
   "outputs": [
    {
     "data": {
      "text/plain": [
       "True"
      ]
     },
     "execution_count": 24,
     "metadata": {},
     "output_type": "execute_result"
    }
   ],
   "source": [
    "True"
   ]
  },
  {
   "cell_type": "code",
   "execution_count": 25,
   "id": "eb933c6f",
   "metadata": {},
   "outputs": [
    {
     "data": {
      "text/plain": [
       "False"
      ]
     },
     "execution_count": 25,
     "metadata": {},
     "output_type": "execute_result"
    }
   ],
   "source": [
    "False"
   ]
  },
  {
   "cell_type": "code",
   "execution_count": 26,
   "id": "51ffcc64",
   "metadata": {},
   "outputs": [
    {
     "data": {
      "text/plain": [
       "True"
      ]
     },
     "execution_count": 26,
     "metadata": {},
     "output_type": "execute_result"
    }
   ],
   "source": [
    "b = True\n",
    "b"
   ]
  },
  {
   "cell_type": "code",
   "execution_count": 27,
   "id": "acbccf98",
   "metadata": {},
   "outputs": [
    {
     "data": {
      "text/plain": [
       "True"
      ]
     },
     "execution_count": 27,
     "metadata": {},
     "output_type": "execute_result"
    }
   ],
   "source": [
    "c = 10 > 3\n",
    "c"
   ]
  },
  {
   "cell_type": "code",
   "execution_count": 28,
   "id": "c54cbfe9",
   "metadata": {},
   "outputs": [
    {
     "data": {
      "text/plain": [
       "False"
      ]
     },
     "execution_count": 28,
     "metadata": {},
     "output_type": "execute_result"
    }
   ],
   "source": [
    "bool(2 > 15)"
   ]
  },
  {
   "cell_type": "code",
   "execution_count": null,
   "id": "8b0b908c",
   "metadata": {},
   "outputs": [],
   "source": []
  },
  {
   "cell_type": "code",
   "execution_count": null,
   "id": "e09a1b8a",
   "metadata": {},
   "outputs": [],
   "source": []
  }
 ],
 "metadata": {
  "kernelspec": {
   "display_name": "Python 3 (ipykernel)",
   "language": "python",
   "name": "python3"
  },
  "language_info": {
   "codemirror_mode": {
    "name": "ipython",
    "version": 3
   },
   "file_extension": ".py",
   "mimetype": "text/x-python",
   "name": "python",
   "nbconvert_exporter": "python",
   "pygments_lexer": "ipython3",
   "version": "3.9.12"
  }
 },
 "nbformat": 4,
 "nbformat_minor": 5
}
