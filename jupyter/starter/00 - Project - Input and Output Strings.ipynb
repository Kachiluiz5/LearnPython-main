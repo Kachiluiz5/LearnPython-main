{
 "cells": [
  {
   "cell_type": "markdown",
   "id": "f48ed687",
   "metadata": {},
   "source": [
    "# Project - Input and Output Strings\n",
    "### Goal\n",
    "- Get to know Jupyter Notebook\n",
    "- Execute your first program(s)"
   ]
  },
  {
   "cell_type": "markdown",
   "id": "4032c55b",
   "metadata": {},
   "source": [
    "### Description\n",
    "- This project is in 3 steps\n",
    "- The purpose is to get comforatble with Jupyter Notebook"
   ]
  },
  {
   "cell_type": "markdown",
   "id": "d6a64f15",
   "metadata": {},
   "source": [
    "### Step 1\n",
    "- Make your first print \"Hello, World!\" program\n",
    "- Execute the cell"
   ]
  },
  {
   "cell_type": "code",
   "execution_count": 1,
   "id": "01dd1dd1",
   "metadata": {},
   "outputs": [
    {
     "name": "stdout",
     "output_type": "stream",
     "text": [
      "Hello, World!\n"
     ]
    }
   ],
   "source": [
    "print(\"Hello, World!\")"
   ]
  },
  {
   "cell_type": "markdown",
   "id": "0f9a98eb",
   "metadata": {},
   "source": [
    "### Step 2\n",
    "- Use input to get the name from user.\n",
    "- Print *Hello* and the the name of the user"
   ]
  },
  {
   "cell_type": "code",
   "execution_count": 2,
   "id": "bac6a408",
   "metadata": {},
   "outputs": [
    {
     "name": "stdout",
     "output_type": "stream",
     "text": [
      "kachi\n",
      "Hello kachi\n"
     ]
    }
   ],
   "source": [
    "name = input()\n",
    "print(\"Hello\", name)"
   ]
  },
  {
   "cell_type": "markdown",
   "id": "189f062e",
   "metadata": {},
   "source": [
    "### Step 3\n",
    "- Use input to get the name from user.\n",
    "- Print \"I LIKE CAPITAL LETTER\" and the name capitalized by using **.upper()**"
   ]
  },
  {
   "cell_type": "code",
   "execution_count": 3,
   "id": "f024ca38",
   "metadata": {},
   "outputs": [
    {
     "name": "stdout",
     "output_type": "stream",
     "text": [
      "rune\n",
      "I LIKE CAPITAL LETTER RUNE\n"
     ]
    }
   ],
   "source": [
    "name = input()\n",
    "print(\"I LIKE CAPITAL LETTER\", name.upper())"
   ]
  },
  {
   "cell_type": "code",
   "execution_count": null,
   "id": "76a82788",
   "metadata": {},
   "outputs": [],
   "source": []
  }
 ],
 "metadata": {
  "kernelspec": {
   "display_name": "Python 3 (ipykernel)",
   "language": "python",
   "name": "python3"
  },
  "language_info": {
   "codemirror_mode": {
    "name": "ipython",
    "version": 3
   },
   "file_extension": ".py",
   "mimetype": "text/x-python",
   "name": "python",
   "nbconvert_exporter": "python",
   "pygments_lexer": "ipython3",
   "version": "3.9.12"
  }
 },
 "nbformat": 4,
 "nbformat_minor": 5
}
