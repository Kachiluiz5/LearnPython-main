{
 "cells": [
  {
   "cell_type": "markdown",
   "id": "eb2eca81",
   "metadata": {},
   "source": [
    "# Project - Math Game and Rock-Paper-Scissor Game\n",
    "### Goal\n",
    "- Create a Math Game\n",
    "- Create a [Rock-Paper-Scissors Game](https://en.wikipedia.org/wiki/Rock_paper_scissors)"
   ]
  },
  {
   "cell_type": "markdown",
   "id": "c3fbbcdc",
   "metadata": {},
   "source": [
    "### Math Game\n",
    "- First, import random\n",
    "- Get a random inteteger from the range 1 to 10 (both inclusive)\n",
    "- Get another random inteteger from the range 1 to 10 (both inclusive)\n",
    "- Prompt the user for what the two integers multiplied is\n",
    "- Print if correct or not. If not corrrect, print the correct answer."
   ]
  },
  {
   "cell_type": "code",
   "execution_count": 2,
   "id": "25ad0935",
   "metadata": {},
   "outputs": [
    {
     "name": "stdout",
     "output_type": "stream",
     "text": [
      "2 and 5\n",
      "What is the product of the two numbers above? 25\n",
      "Wrong the answer is 10\n"
     ]
    }
   ],
   "source": [
    "import random\n",
    "num1 = random.randint(1, 10)\n",
    "num2 = random.randint(1, 10)\n",
    "print(f\"{num1} and {num2}\")\n",
    "ans = num1*num2\n",
    "\n",
    "reply = input(\"What is the product of the two numbers above? \")\n",
    "reply = int(reply)\n",
    "\n",
    "\n",
    "if reply == ans:\n",
    "    print(f\"Correct the answer is {reply}\")\n",
    "else:\n",
    "    print(f\"Wrong the answer is {ans}\")"
   ]
  },
  {
   "cell_type": "code",
   "execution_count": 5,
   "id": "f630bcab",
   "metadata": {},
   "outputs": [
    {
     "name": "stdout",
     "output_type": "stream",
     "text": [
      "What is 4 times 7? 48\n",
      "incorrect 4 times 7 = 28\n"
     ]
    }
   ],
   "source": [
    "import random\n",
    "a = random.randint(1, 10)\n",
    "b = random.randint(1, 10)\n",
    "\n",
    "answer = input(f\"What is {a} times {b}? \")\n",
    "answer = int(answer)\n",
    "\n",
    "if answer == a*b:\n",
    "    print(f\"correct: {a} times {b} = {answer}\")\n",
    "else:\n",
    "    print(f\"incorrect {a} times {b} = {a*b}\")"
   ]
  },
  {
   "cell_type": "markdown",
   "id": "df3d7ee6",
   "metadata": {},
   "source": [
    "### Rock, Paper, Scissors Game\n",
    "\n",
    "![Rock Paper Scissor](img/RockPaperScissors.png \"Rock-Paper-Scissor\")"
   ]
  },
  {
   "cell_type": "code",
   "execution_count": 5,
   "id": "f8b74306",
   "metadata": {},
   "outputs": [
    {
     "name": "stdout",
     "output_type": "stream",
     "text": [
      "Enter Choice: 1: Rock, 2: Paper, 3: Sissor\n",
      "Choice : 2\n",
      "computer choice: 1\n",
      "You win\n"
     ]
    }
   ],
   "source": [
    "print(\"Enter Choice: 1: Rock, 2: Paper, 3: Sissor\")\n",
    "user = input(\"Choice : \")\n",
    "user = int(user)\n",
    "import random\n",
    "computer = random.randint(1, 3)\n",
    "print(f\"computer choice: {computer}\")\n",
    "\n",
    "if user == computer:\n",
    "    print(\"Draw\") \n",
    "elif user == 1: #rock\n",
    "    if computer == 2: #paper\n",
    "        print(\"You win\")\n",
    "    else:\n",
    "        print(\"Computer wins\")\n",
    "elif user == 2: #paper\n",
    "    if computer == 1: #rock\n",
    "        print(\"You win\")\n",
    "    else:\n",
    "        print(\"Computer wins\")\n",
    "elif user == 3: #sissor\n",
    "    if computer == 1: #rock\n",
    "        print(\"Computer wins\")\n",
    "    else:\n",
    "        print(\"you win\")\n"
   ]
  },
  {
   "cell_type": "code",
   "execution_count": null,
   "id": "9f04fbfe",
   "metadata": {},
   "outputs": [],
   "source": []
  }
 ],
 "metadata": {
  "kernelspec": {
   "display_name": "Python 3 (ipykernel)",
   "language": "python",
   "name": "python3"
  },
  "language_info": {
   "codemirror_mode": {
    "name": "ipython",
    "version": 3
   },
   "file_extension": ".py",
   "mimetype": "text/x-python",
   "name": "python",
   "nbconvert_exporter": "python",
   "pygments_lexer": "ipython3",
   "version": "3.9.12"
  }
 },
 "nbformat": 4,
 "nbformat_minor": 5
}
