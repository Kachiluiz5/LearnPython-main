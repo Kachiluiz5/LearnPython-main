{
 "cells": [
  {
   "cell_type": "markdown",
   "id": "089258dd",
   "metadata": {},
   "source": [
    "# Functions\n",
    "### Goal\n",
    "- Learn about functions\n",
    "- Use functions to structure code\n",
    "- Functions makes the code more readable"
   ]
  },
  {
   "cell_type": "code",
   "execution_count": 1,
   "id": "221aadf9",
   "metadata": {},
   "outputs": [],
   "source": [
    "# defining a function and calling it\n"
   ]
  },
  {
   "cell_type": "code",
   "execution_count": 4,
   "id": "ea8c781b",
   "metadata": {},
   "outputs": [],
   "source": [
    "def my_func():\n",
    "    print('Hello, World')"
   ]
  },
  {
   "cell_type": "code",
   "execution_count": 5,
   "id": "49755540",
   "metadata": {},
   "outputs": [
    {
     "name": "stdout",
     "output_type": "stream",
     "text": [
      "Hello, World\n"
     ]
    }
   ],
   "source": [
    "my_func()"
   ]
  },
  {
   "cell_type": "code",
   "execution_count": 6,
   "id": "570aeb98",
   "metadata": {},
   "outputs": [],
   "source": [
    "# adding argument in the parenteses"
   ]
  },
  {
   "cell_type": "code",
   "execution_count": 7,
   "id": "90d6cfc9",
   "metadata": {},
   "outputs": [],
   "source": [
    "def print_name(name):\n",
    "    print(f\"Hello {name}\")"
   ]
  },
  {
   "cell_type": "code",
   "execution_count": 8,
   "id": "3aefc0a1",
   "metadata": {},
   "outputs": [
    {
     "name": "stdout",
     "output_type": "stream",
     "text": [
      "Hello Kachi\n"
     ]
    }
   ],
   "source": [
    "print_name(\"Kachi\")"
   ]
  },
  {
   "cell_type": "code",
   "execution_count": 9,
   "id": "008f5003",
   "metadata": {},
   "outputs": [],
   "source": [
    "# arameters are the one you add to the function while parentesis is the one you pass to the function"
   ]
  },
  {
   "cell_type": "code",
   "execution_count": 10,
   "id": "dd4c0226",
   "metadata": {},
   "outputs": [],
   "source": [
    "def print_age(name, age):\n",
    "    print(f\"Hello {name}\")\n",
    "    print(f\"You are {age} years Old\")"
   ]
  },
  {
   "cell_type": "code",
   "execution_count": 12,
   "id": "16c53209",
   "metadata": {},
   "outputs": [
    {
     "name": "stdout",
     "output_type": "stream",
     "text": [
      "Hello Kachi\n",
      "You are 30 years Old\n"
     ]
    }
   ],
   "source": [
    "print_age(\"Kachi\", 30)\n"
   ]
  },
  {
   "cell_type": "code",
   "execution_count": 14,
   "id": "01d3b19c",
   "metadata": {},
   "outputs": [
    {
     "data": {
      "text/plain": [
       "20"
      ]
     },
     "execution_count": 14,
     "metadata": {},
     "output_type": "execute_result"
    }
   ],
   "source": [
    "# returning using function : this will make things easy. for instance if the year increase we dont need to start changing all \n",
    "# age but we will just upadate it here.\n",
    "def calculate_birth_year(birth_year):\n",
    "    return 2023 - birth_year\n",
    "calculate_birth_year(2003)"
   ]
  },
  {
   "cell_type": "markdown",
   "id": "ee594681",
   "metadata": {},
   "source": [
    "### A few new things"
   ]
  },
  {
   "cell_type": "code",
   "execution_count": null,
   "id": "dfb9125a",
   "metadata": {},
   "outputs": [],
   "source": [
    "# RETURNING UNICODE OF AN ALPHABET USING ORD() FUNCTION AND GETTING THAT OF NUMBER USEING chr()"
   ]
  },
  {
   "cell_type": "code",
   "execution_count": 19,
   "id": "bff9daa3",
   "metadata": {},
   "outputs": [
    {
     "data": {
      "text/plain": [
       "65"
      ]
     },
     "execution_count": 19,
     "metadata": {},
     "output_type": "execute_result"
    }
   ],
   "source": [
    "ord(\"A\")"
   ]
  },
  {
   "cell_type": "code",
   "execution_count": 17,
   "id": "96b40be4",
   "metadata": {},
   "outputs": [
    {
     "data": {
      "text/plain": [
       "70"
      ]
     },
     "execution_count": 17,
     "metadata": {},
     "output_type": "execute_result"
    }
   ],
   "source": [
    "ord(\"F\")"
   ]
  },
  {
   "cell_type": "code",
   "execution_count": 21,
   "id": "c12554a9",
   "metadata": {},
   "outputs": [
    {
     "data": {
      "text/plain": [
       "'A'"
      ]
     },
     "execution_count": 21,
     "metadata": {},
     "output_type": "execute_result"
    }
   ],
   "source": [
    "chr(65)"
   ]
  },
  {
   "cell_type": "code",
   "execution_count": 27,
   "id": "3fabfb17",
   "metadata": {},
   "outputs": [
    {
     "name": "stdout",
     "output_type": "stream",
     "text": [
      "65 in A\n",
      "66 in B\n",
      "67 in C\n",
      "68 in D\n",
      "69 in E\n",
      "70 in F\n",
      "71 in G\n",
      "72 in H\n",
      "73 in I\n",
      "74 in J\n",
      "75 in K\n",
      "76 in L\n",
      "77 in M\n",
      "78 in N\n",
      "79 in O\n",
      "80 in P\n",
      "81 in Q\n",
      "82 in R\n",
      "83 in S\n",
      "84 in T\n",
      "85 in U\n",
      "86 in V\n",
      "87 in W\n",
      "88 in X\n",
      "89 in Y\n",
      "90 in Z\n"
     ]
    }
   ],
   "source": [
    "for c in range(65, 65 + 26):\n",
    "    print(f\"{c} in {chr(c)}\")"
   ]
  },
  {
   "cell_type": "code",
   "execution_count": 28,
   "id": "e0f0215c",
   "metadata": {},
   "outputs": [],
   "source": [
    "# reminder in python:lets learn it using time: we declar an hour and see how many hours remains when we do reminder with it"
   ]
  },
  {
   "cell_type": "code",
   "execution_count": 48,
   "id": "f5bd50fc",
   "metadata": {},
   "outputs": [],
   "source": [
    "hour = 26"
   ]
  },
  {
   "cell_type": "code",
   "execution_count": 49,
   "id": "fe3808c1",
   "metadata": {},
   "outputs": [
    {
     "data": {
      "text/plain": [
       "2"
      ]
     },
     "execution_count": 49,
     "metadata": {},
     "output_type": "execute_result"
    }
   ],
   "source": [
    "hour % 24"
   ]
  },
  {
   "cell_type": "code",
   "execution_count": 50,
   "id": "cb51f4e2",
   "metadata": {},
   "outputs": [],
   "source": [
    "# trying out some addition"
   ]
  },
  {
   "cell_type": "code",
   "execution_count": 51,
   "id": "a10c44d5",
   "metadata": {},
   "outputs": [],
   "source": [
    "hour = 25"
   ]
  },
  {
   "cell_type": "code",
   "execution_count": 53,
   "id": "da0f2b35",
   "metadata": {},
   "outputs": [
    {
     "data": {
      "text/plain": [
       "3"
      ]
     },
     "execution_count": 53,
     "metadata": {},
     "output_type": "execute_result"
    }
   ],
   "source": [
    "(hour + 2) % 24"
   ]
  },
  {
   "cell_type": "code",
   "execution_count": 54,
   "id": "6fc02c4a",
   "metadata": {},
   "outputs": [],
   "source": [
    "# lets use funtion and module to check even and odd number"
   ]
  },
  {
   "cell_type": "code",
   "execution_count": 57,
   "id": "abba5cbe",
   "metadata": {},
   "outputs": [],
   "source": [
    "def is_even(num):\n",
    "    if num % 2 == 0:\n",
    "        print(\"even\")\n",
    "    else:\n",
    "        print(\"odd\")"
   ]
  },
  {
   "cell_type": "code",
   "execution_count": 59,
   "id": "22b66c86",
   "metadata": {},
   "outputs": [
    {
     "name": "stdout",
     "output_type": "stream",
     "text": [
      "odd\n"
     ]
    }
   ],
   "source": [
    "is_even(5)"
   ]
  },
  {
   "cell_type": "code",
   "execution_count": 60,
   "id": "b261ed69",
   "metadata": {},
   "outputs": [],
   "source": [
    "# lets use for loops "
   ]
  },
  {
   "cell_type": "code",
   "execution_count": 62,
   "id": "4064452e",
   "metadata": {},
   "outputs": [
    {
     "name": "stdout",
     "output_type": "stream",
     "text": [
      "0 even\n",
      "1 odd\n",
      "2 even\n",
      "3 odd\n",
      "4 even\n",
      "5 odd\n",
      "6 even\n",
      "7 odd\n",
      "8 even\n",
      "9 odd\n",
      "10 even\n",
      "11 odd\n",
      "12 even\n",
      "13 odd\n"
     ]
    }
   ],
   "source": [
    "for i in range(14):\n",
    "    print(i, end= ' ')\n",
    "    is_even(i)"
   ]
  },
  {
   "cell_type": "code",
   "execution_count": null,
   "id": "764e9f26",
   "metadata": {},
   "outputs": [],
   "source": []
  }
 ],
 "metadata": {
  "kernelspec": {
   "display_name": "Python 3 (ipykernel)",
   "language": "python",
   "name": "python3"
  },
  "language_info": {
   "codemirror_mode": {
    "name": "ipython",
    "version": 3
   },
   "file_extension": ".py",
   "mimetype": "text/x-python",
   "name": "python",
   "nbconvert_exporter": "python",
   "pygments_lexer": "ipython3",
   "version": "3.9.12"
  }
 },
 "nbformat": 4,
 "nbformat_minor": 5
}
