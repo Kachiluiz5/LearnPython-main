{
 "cells": [
  {
   "cell_type": "markdown",
   "id": "d283666c",
   "metadata": {},
   "source": [
    "# Lists\n",
    "### Goal\n",
    "- Learn about lists\n",
    "- How to get a random element from a list\n",
    "- How to make a randomization of a string\n",
    "- A few nice functions"
   ]
  },
  {
   "cell_type": "code",
   "execution_count": 4,
   "id": "609e36fb",
   "metadata": {},
   "outputs": [],
   "source": [
    "list_items = ['apple', 'orange', 'banana']"
   ]
  },
  {
   "cell_type": "code",
   "execution_count": 5,
   "id": "27e07f1b",
   "metadata": {},
   "outputs": [
    {
     "data": {
      "text/plain": [
       "['apple', 'orange', 'banana']"
      ]
     },
     "execution_count": 5,
     "metadata": {},
     "output_type": "execute_result"
    }
   ],
   "source": [
    "list_items"
   ]
  },
  {
   "cell_type": "code",
   "execution_count": 6,
   "id": "c001d424",
   "metadata": {},
   "outputs": [
    {
     "data": {
      "text/plain": [
       "'apple'"
      ]
     },
     "execution_count": 6,
     "metadata": {},
     "output_type": "execute_result"
    }
   ],
   "source": [
    "list_items[0]"
   ]
  },
  {
   "cell_type": "code",
   "execution_count": 7,
   "id": "b70834bd",
   "metadata": {},
   "outputs": [
    {
     "data": {
      "text/plain": [
       "'banana'"
      ]
     },
     "execution_count": 7,
     "metadata": {},
     "output_type": "execute_result"
    }
   ],
   "source": [
    "list_items[-1]"
   ]
  },
  {
   "cell_type": "code",
   "execution_count": 8,
   "id": "1c9fef4e",
   "metadata": {},
   "outputs": [
    {
     "data": {
      "text/plain": [
       "'banana'"
      ]
     },
     "execution_count": 8,
     "metadata": {},
     "output_type": "execute_result"
    }
   ],
   "source": [
    "list_items.pop()"
   ]
  },
  {
   "cell_type": "code",
   "execution_count": 9,
   "id": "d8f407e1",
   "metadata": {},
   "outputs": [
    {
     "data": {
      "text/plain": [
       "['apple', 'orange']"
      ]
     },
     "execution_count": 9,
     "metadata": {},
     "output_type": "execute_result"
    }
   ],
   "source": [
    "list_items"
   ]
  },
  {
   "cell_type": "code",
   "execution_count": 11,
   "id": "6f6e9df9",
   "metadata": {},
   "outputs": [],
   "source": [
    "list_items.append(\"bread\")"
   ]
  },
  {
   "cell_type": "code",
   "execution_count": 12,
   "id": "42b32219",
   "metadata": {},
   "outputs": [
    {
     "data": {
      "text/plain": [
       "['apple', 'orange', 'bread']"
      ]
     },
     "execution_count": 12,
     "metadata": {},
     "output_type": "execute_result"
    }
   ],
   "source": [
    "list_items"
   ]
  },
  {
   "cell_type": "code",
   "execution_count": 13,
   "id": "5e82b34b",
   "metadata": {},
   "outputs": [],
   "source": [
    "#concatonating lists\n",
    "new_list = ['abuja', 'lagos', 'awka']"
   ]
  },
  {
   "cell_type": "code",
   "execution_count": 14,
   "id": "7a2e97dd",
   "metadata": {},
   "outputs": [
    {
     "data": {
      "text/plain": [
       "['abuja', 'lagos', 'awka']"
      ]
     },
     "execution_count": 14,
     "metadata": {},
     "output_type": "execute_result"
    }
   ],
   "source": [
    "new_list"
   ]
  },
  {
   "cell_type": "code",
   "execution_count": 15,
   "id": "6d543087",
   "metadata": {},
   "outputs": [],
   "source": [
    "all_list = list_items + new_list"
   ]
  },
  {
   "cell_type": "code",
   "execution_count": 16,
   "id": "6eab2b15",
   "metadata": {},
   "outputs": [
    {
     "data": {
      "text/plain": [
       "['apple', 'orange', 'bread', 'abuja', 'lagos', 'awka']"
      ]
     },
     "execution_count": 16,
     "metadata": {},
     "output_type": "execute_result"
    }
   ],
   "source": [
    "all_list"
   ]
  },
  {
   "cell_type": "code",
   "execution_count": 17,
   "id": "5d4fbee6",
   "metadata": {},
   "outputs": [],
   "source": [
    "# importing random to choose random choice from the list\n",
    "import random"
   ]
  },
  {
   "cell_type": "code",
   "execution_count": 19,
   "id": "63f7386a",
   "metadata": {},
   "outputs": [
    {
     "data": {
      "text/plain": [
       "'lagos'"
      ]
     },
     "execution_count": 19,
     "metadata": {},
     "output_type": "execute_result"
    }
   ],
   "source": [
    "random.choice(all_list)"
   ]
  },
  {
   "cell_type": "code",
   "execution_count": 20,
   "id": "81fb3468",
   "metadata": {},
   "outputs": [
    {
     "data": {
      "text/plain": [
       "'awka'"
      ]
     },
     "execution_count": 20,
     "metadata": {},
     "output_type": "execute_result"
    }
   ],
   "source": [
    "random.choice(all_list)"
   ]
  },
  {
   "cell_type": "code",
   "execution_count": 21,
   "id": "ccef481e",
   "metadata": {},
   "outputs": [
    {
     "data": {
      "text/plain": [
       "'lagos'"
      ]
     },
     "execution_count": 21,
     "metadata": {},
     "output_type": "execute_result"
    }
   ],
   "source": [
    "random.choice(all_list)"
   ]
  },
  {
   "cell_type": "code",
   "execution_count": 22,
   "id": "62d89f9b",
   "metadata": {},
   "outputs": [],
   "source": [
    "# shuffle list item using random\n",
    "random.shuffle(all_list)"
   ]
  },
  {
   "cell_type": "code",
   "execution_count": 23,
   "id": "b0900998",
   "metadata": {},
   "outputs": [
    {
     "data": {
      "text/plain": [
       "['abuja', 'lagos', 'awka']"
      ]
     },
     "execution_count": 23,
     "metadata": {},
     "output_type": "execute_result"
    }
   ],
   "source": [
    "new_list"
   ]
  },
  {
   "cell_type": "code",
   "execution_count": 24,
   "id": "d2693214",
   "metadata": {},
   "outputs": [
    {
     "data": {
      "text/plain": [
       "['bread', 'orange', 'apple', 'awka', 'lagos', 'abuja']"
      ]
     },
     "execution_count": 24,
     "metadata": {},
     "output_type": "execute_result"
    }
   ],
   "source": [
    "all_list"
   ]
  },
  {
   "cell_type": "code",
   "execution_count": 25,
   "id": "57675f27",
   "metadata": {},
   "outputs": [
    {
     "data": {
      "text/plain": [
       "'bread orange apple awka lagos abuja'"
      ]
     },
     "execution_count": 25,
     "metadata": {},
     "output_type": "execute_result"
    }
   ],
   "source": [
    "' '.join(all_list) #presenting list in a nicer way"
   ]
  },
  {
   "cell_type": "code",
   "execution_count": 26,
   "id": "5c15f2d7",
   "metadata": {},
   "outputs": [],
   "source": [
    "s = \"awsome\""
   ]
  },
  {
   "cell_type": "code",
   "execution_count": 29,
   "id": "0191d080",
   "metadata": {},
   "outputs": [
    {
     "data": {
      "text/plain": [
       "['e', 'a', 'm', 's', 'w', 'o']"
      ]
     },
     "execution_count": 29,
     "metadata": {},
     "output_type": "execute_result"
    }
   ],
   "source": [
    "random.sample(s, len(s))"
   ]
  },
  {
   "cell_type": "code",
   "execution_count": 30,
   "id": "e39ae439",
   "metadata": {},
   "outputs": [
    {
     "data": {
      "text/plain": [
       "'e s a m o w'"
      ]
     },
     "execution_count": 30,
     "metadata": {},
     "output_type": "execute_result"
    }
   ],
   "source": [
    "' '.join(random.sample(s, len(s)))"
   ]
  },
  {
   "cell_type": "code",
   "execution_count": 31,
   "id": "cdda8fa2",
   "metadata": {},
   "outputs": [],
   "source": [
    "my_numbers = [3, 5, 6, 9, 2]"
   ]
  },
  {
   "cell_type": "code",
   "execution_count": 32,
   "id": "cb271483",
   "metadata": {},
   "outputs": [
    {
     "data": {
      "text/plain": [
       "[3, 5, 6, 9, 2]"
      ]
     },
     "execution_count": 32,
     "metadata": {},
     "output_type": "execute_result"
    }
   ],
   "source": [
    "my_numbers"
   ]
  },
  {
   "cell_type": "code",
   "execution_count": 35,
   "id": "05a3f6bb",
   "metadata": {},
   "outputs": [
    {
     "data": {
      "text/plain": [
       "9"
      ]
     },
     "execution_count": 35,
     "metadata": {},
     "output_type": "execute_result"
    }
   ],
   "source": [
    "max(my_numbers)"
   ]
  },
  {
   "cell_type": "code",
   "execution_count": 36,
   "id": "850ed421",
   "metadata": {},
   "outputs": [
    {
     "data": {
      "text/plain": [
       "2"
      ]
     },
     "execution_count": 36,
     "metadata": {},
     "output_type": "execute_result"
    }
   ],
   "source": [
    "min(my_numbers)"
   ]
  },
  {
   "cell_type": "code",
   "execution_count": 37,
   "id": "e6de7218",
   "metadata": {},
   "outputs": [
    {
     "data": {
      "text/plain": [
       "25"
      ]
     },
     "execution_count": 37,
     "metadata": {},
     "output_type": "execute_result"
    }
   ],
   "source": [
    "sum(my_numbers)"
   ]
  },
  {
   "cell_type": "code",
   "execution_count": 38,
   "id": "cbef1447",
   "metadata": {},
   "outputs": [
    {
     "data": {
      "text/plain": [
       "5"
      ]
     },
     "execution_count": 38,
     "metadata": {},
     "output_type": "execute_result"
    }
   ],
   "source": [
    "len(my_numbers)"
   ]
  },
  {
   "cell_type": "code",
   "execution_count": 40,
   "id": "641d773f",
   "metadata": {},
   "outputs": [
    {
     "data": {
      "text/plain": [
       "5.0"
      ]
     },
     "execution_count": 40,
     "metadata": {},
     "output_type": "execute_result"
    }
   ],
   "source": [
    "sum(my_numbers)/len(my_numbers)"
   ]
  },
  {
   "cell_type": "code",
   "execution_count": null,
   "id": "2bd90638",
   "metadata": {},
   "outputs": [],
   "source": []
  }
 ],
 "metadata": {
  "kernelspec": {
   "display_name": "Python 3 (ipykernel)",
   "language": "python",
   "name": "python3"
  },
  "language_info": {
   "codemirror_mode": {
    "name": "ipython",
    "version": 3
   },
   "file_extension": ".py",
   "mimetype": "text/x-python",
   "name": "python",
   "nbconvert_exporter": "python",
   "pygments_lexer": "ipython3",
   "version": "3.9.12"
  }
 },
 "nbformat": 4,
 "nbformat_minor": 5
}
