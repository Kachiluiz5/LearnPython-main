{
 "cells": [
  {
   "cell_type": "markdown",
   "id": "0c1ae0b6",
   "metadata": {},
   "source": [
    "# Project - Hangman Game\n",
    "### Goal\n",
    "- Create a [Hangman Game](https://en.wikipedia.org/wiki/Hangman_(game))"
   ]
  },
  {
   "cell_type": "markdown",
   "id": "b447334a",
   "metadata": {},
   "source": [
    "### Description\n",
    "- The game is as follows.\n",
    "- Computer has a list of words.\n",
    "- Computer chooses a random word from the list.\n",
    "- The player gets 10 wrong guesses (10 turns).\n",
    "- The game follows this loop\n",
    "    - Computer prints the word character by character replacing with underscore those not guessed yet (initial no characters has been guessed).\n",
    "    - Player guesses a character.\n",
    "    - If character is not in word, a turn is withdrawn\n",
    "    - If no turns left, computer wins.\n",
    "    - If player has guessed all characters, player wins\n",
    "- An initial word list could be: ['father', 'enterprise', 'science', 'programming', 'resistance', 'fiction', 'condition', 'reverse', 'computer', 'python']"
   ]
  },
  {
   "cell_type": "code",
   "execution_count": 1,
   "id": "c090b787",
   "metadata": {},
   "outputs": [
    {
     "name": "stdout",
     "output_type": "stream",
     "text": [
      "['father', 'enterprise', 'science', 'programming', 'resistance', 'fiction', 'condition', 'reverse', 'computer', 'python']\n"
     ]
    }
   ],
   "source": [
    "word_list = ['father', 'enterprise', 'science', 'programming', 'resistance', 'fiction', 'condition', 'reverse', 'computer', 'python']\n",
    "print(word_list)"
   ]
  },
  {
   "cell_type": "code",
   "execution_count": 6,
   "id": "d74d413d",
   "metadata": {},
   "outputs": [
    {
     "name": "stdout",
     "output_type": "stream",
     "text": [
      "reverse\n"
     ]
    }
   ],
   "source": [
    "import random\n",
    "random_word = random.choice(word_list)\n",
    "print(random_word)"
   ]
  },
  {
   "cell_type": "code",
   "execution_count": null,
   "id": "71b714c6",
   "metadata": {},
   "outputs": [],
   "source": []
  }
 ],
 "metadata": {
  "kernelspec": {
   "display_name": "Python 3 (ipykernel)",
   "language": "python",
   "name": "python3"
  },
  "language_info": {
   "codemirror_mode": {
    "name": "ipython",
    "version": 3
   },
   "file_extension": ".py",
   "mimetype": "text/x-python",
   "name": "python",
   "nbconvert_exporter": "python",
   "pygments_lexer": "ipython3",
   "version": "3.9.12"
  }
 },
 "nbformat": 4,
 "nbformat_minor": 5
}
