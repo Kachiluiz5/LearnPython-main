{
 "cells": [
  {
   "cell_type": "markdown",
   "id": "ab32494f",
   "metadata": {},
   "source": [
    "# Project - Jumbled Game\n",
    "### Goal\n",
    "- Implement the [Jumbled Game](https://en.wikipedia.org/wiki/Jumble)"
   ]
  },
  {
   "cell_type": "markdown",
   "id": "d9cdb2ce",
   "metadata": {},
   "source": [
    "### Description\n",
    "- A word jumble is a word puzzle game that presents the player with a bunch of mixed up letters and requires them to unscramble the letters to find the hidden word.\n",
    "- The computer will take word and jumble it (mix up the letters).\n",
    "- Then the player will guess what the word is\n",
    "- An initial word list could be: ['father', 'enterprise', 'science', 'programming', 'resistance', 'fiction', 'condition', 'reverse', 'computer', 'python']"
   ]
  },
  {
   "cell_type": "code",
   "execution_count": 3,
   "id": "bf1ffe93",
   "metadata": {
    "collapsed": true
   },
   "outputs": [
    {
     "name": "stdout",
     "output_type": "stream",
     "text": [
      "Hello Player: Arrange the word correctly\n",
      " Rearrange: c i s t e r s a e n -->resistance\n",
      "correct\n"
     ]
    }
   ],
   "source": [
    "\n",
    "print(\"Hello Player: Arrange the word correctly\")\n",
    "word_list = ['father', 'enterprise', 'science', 'programming', 'resistance', 'fiction', 'condition', 'reverse', 'computer', 'python']\n",
    "word_list\n",
    "import random\n",
    "word = random.choice(word_list)\n",
    "# print(word)\n",
    "user = input(f\" Rearrange: {' '.join(random.sample(word, len(word)))} -->\" )\n",
    "# print(shuffle)\n",
    "\n",
    "if user == word:\n",
    "    print(\"correct\")\n",
    "else:\n",
    "    print(f\"incorrect the answer is ( {word} )\")"
   ]
  },
  {
   "cell_type": "code",
   "execution_count": 4,
   "id": "8c6076f7",
   "metadata": {},
   "outputs": [],
   "source": [
    "\n",
    "# import random\n",
    "# word_list = ['father', 'enterprise', 'science', 'programming', 'resistance', 'fiction', 'condition', 'computer', 'python']\n",
    "\n",
    "# word = random.choice(word_list)\n",
    "# ' '.join(random.sample(word, len(word)))\n",
    "# word_list\n",
    "\n",
    "# ans = input(\"Write it correctly: \")"
   ]
  },
  {
   "cell_type": "code",
   "execution_count": 5,
   "id": "47a5b577",
   "metadata": {},
   "outputs": [
    {
     "name": "stdout",
     "output_type": "stream",
     "text": [
      "hello\n"
     ]
    }
   ],
   "source": [
    "print(\"hello\")"
   ]
  },
  {
   "cell_type": "code",
   "execution_count": null,
   "id": "1d944249",
   "metadata": {},
   "outputs": [],
   "source": []
  },
  {
   "cell_type": "code",
   "execution_count": null,
   "id": "f62f8f39",
   "metadata": {},
   "outputs": [],
   "source": []
  },
  {
   "cell_type": "code",
   "execution_count": null,
   "id": "736f0d60",
   "metadata": {},
   "outputs": [],
   "source": []
  }
 ],
 "metadata": {
  "kernelspec": {
   "display_name": "Python 3 (ipykernel)",
   "language": "python",
   "name": "python3"
  },
  "language_info": {
   "codemirror_mode": {
    "name": "ipython",
    "version": 3
   },
   "file_extension": ".py",
   "mimetype": "text/x-python",
   "name": "python",
   "nbconvert_exporter": "python",
   "pygments_lexer": "ipython3",
   "version": "3.9.12"
  }
 },
 "nbformat": 4,
 "nbformat_minor": 5
}
